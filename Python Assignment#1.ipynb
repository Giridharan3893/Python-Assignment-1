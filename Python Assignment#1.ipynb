{
 "cells": [
  {
   "cell_type": "code",
   "execution_count": null,
   "id": "7d887511",
   "metadata": {},
   "outputs": [],
   "source": [
    "##Answer 1:\n",
    "\n",
    "for i in range (1500,2701):\n",
    "    if i%5==0 and i%7==0:\n",
    "        print(i)"
   ]
  },
  {
   "cell_type": "code",
   "execution_count": null,
   "id": "5808d86f",
   "metadata": {},
   "outputs": [],
   "source": [
    "##Answer 2:\n",
    "\n",
    "def sum(a,b):\n",
    "    return a+b\n",
    "sum(9,11)"
   ]
  },
  {
   "cell_type": "code",
   "execution_count": null,
   "id": "84dbe91b",
   "metadata": {},
   "outputs": [],
   "source": [
    "##Answer 3:\n",
    "\n",
    "def max(a,b):\n",
    "    return a if a>b else b\n",
    "max(195,1002)\n"
   ]
  },
  {
   "cell_type": "code",
   "execution_count": null,
   "id": "bc6494ed",
   "metadata": {},
   "outputs": [],
   "source": [
    "##Answer 4:\n",
    "\n",
    "def factorial  (n):\n",
    "    fact=1\n",
    "    for i in range (1,n+1):\n",
    "        fact*=i\n",
    "    return fact\n",
    "factorial(10)\n"
   ]
  },
  {
   "cell_type": "code",
   "execution_count": null,
   "id": "d061e882",
   "metadata": {},
   "outputs": [],
   "source": [
    "##Answer 5:\n",
    "\n",
    "P = 1000\n",
    "R = 8\n",
    "T = 5\n",
    "Simple_interest = (P * R * T) / 100\n",
    "print(\"The simple interest is:\", Simple_interest)"
   ]
  },
  {
   "cell_type": "code",
   "execution_count": null,
   "id": "f07d9574",
   "metadata": {},
   "outputs": [],
   "source": [
    "##Answer 6:\n",
    "\n",
    "P = 1000\n",
    "R = 8\n",
    "T = 5\n",
    "A = P * (pow((1 + R/100),T))\n",
    "CI= A - P\n",
    "print(\"Compound interest is\", CI)"
   ]
  },
  {
   "cell_type": "code",
   "execution_count": null,
   "id": "816583ad",
   "metadata": {},
   "outputs": [],
   "source": [
    "##Answer 7:\n",
    "\n",
    "n = int(input(\"Enter a number: \"))\n",
    "s = 0\n",
    "t = n\n",
    "while t > 0:\n",
    "   digit = t % 10\n",
    "   s += digit ** 3\n",
    "   t //= 10\n",
    "if n == s:\n",
    "   print(n,\"is an Armstrong number\")\n",
    "else:\n",
    "   print(n,\"is not an Armstrong number\")"
   ]
  },
  {
   "cell_type": "code",
   "execution_count": null,
   "id": "b08b5bea",
   "metadata": {},
   "outputs": [],
   "source": [
    "##Answer 8:\n",
    "\n",
    "PI = 3.14\n",
    "r = float(input(\"Enter the radius of a circle:\"))\n",
    "area = PI * r * r\n",
    "print(\"Area of a circle = %.2f\" %area)"
   ]
  },
  {
   "cell_type": "code",
   "execution_count": null,
   "id": "f5d42cc8",
   "metadata": {},
   "outputs": [],
   "source": [
    "##Answer 9:\n",
    "\n",
    "lower_value = int(input (\"Please, Enter the Lowest Range Value: \"))  \n",
    "upper_value = int(input (\"Please, Enter the Upper Range Value: \"))  \n",
    "  \n",
    "print (\"The Prime Numbers in the range are: \")  \n",
    "for number in range (lower_value, upper_value + 1):  \n",
    "    if number > 1:  \n",
    "        for i in range (2, number):  \n",
    "            if (number % i) == 0:  \n",
    "                break  \n",
    "        else:  \n",
    "            print (number) "
   ]
  },
  {
   "cell_type": "code",
   "execution_count": null,
   "id": "d0cb8553",
   "metadata": {},
   "outputs": [],
   "source": [
    "##Answer 10:\n",
    "\n",
    "num = 11\n",
    "\n",
    "if num > 1:\n",
    "    for i in range(2, int(num/2)+1):\n",
    "        if (num % i) == 0:\n",
    "            print(num, \"is not a prime number\")\n",
    "            break\n",
    "    else:\n",
    "        print(num, \"is a prime number\")\n",
    "  \n",
    "else:\n",
    "    print(num, \"is not a prime number\")"
   ]
  }
 ],
 "metadata": {
  "kernelspec": {
   "display_name": "Python 3 (ipykernel)",
   "language": "python",
   "name": "python3"
  },
  "language_info": {
   "codemirror_mode": {
    "name": "ipython",
    "version": 3
   },
   "file_extension": ".py",
   "mimetype": "text/x-python",
   "name": "python",
   "nbconvert_exporter": "python",
   "pygments_lexer": "ipython3",
   "version": "3.9.7"
  }
 },
 "nbformat": 4,
 "nbformat_minor": 5
}
